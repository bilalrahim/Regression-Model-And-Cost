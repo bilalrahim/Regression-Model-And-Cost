{
 "cells": [
  {
   "cell_type": "markdown",
   "metadata": {},
   "source": [
    "Assignment 1 \\\n",
    "Linear Regression \\\n",
    "Description : Finding the most suitable theta values for the given data set."
   ]
  },
  {
   "cell_type": "code",
   "execution_count": 2,
   "metadata": {},
   "outputs": [],
   "source": [
    "import random as rand"
   ]
  },
  {
   "cell_type": "code",
   "execution_count": null,
   "metadata": {},
   "outputs": [],
   "source": [
    "#Mounting Drive to import the text file.\n",
    "from google.colab import drive\n",
    "drive.mount('/content/drive')"
   ]
  },
  {
   "cell_type": "code",
   "execution_count": null,
   "metadata": {},
   "outputs": [],
   "source": [
    "data = open('/content/drive/My Drive/Data Sets/regression.txt').read()"
   ]
  },
  {
   "cell_type": "code",
   "execution_count": null,
   "metadata": {},
   "outputs": [],
   "source": [
    "struct_data = []\n",
    "for rows in data:\n",
    "  temp1 , temp2= rows.split('  ')\n",
    "  li = [temp1,temp2]\n",
    "  struct_data.append(li)\n",
    "\n",
    "#Age on 0th index and bloodpreasure on 1st index of the 2D list struct_data"
   ]
  },
  {
   "cell_type": "markdown",
   "metadata": {},
   "source": [
    "Hypothesis \\\n",
    "ht(x) = t0 + t1x      t = theta \\\n",
    "Cost Function \\\n",
    "J(t1,t2) = 1/2m sum to 30 (ht(xi) - yi)^2 "
   ]
  },
  {
   "cell_type": "code",
   "execution_count": null,
   "metadata": {},
   "outputs": [],
   "source": [
    "#Hypothesis Function\n",
    "def hypothesis(t1,t2,x):\n",
    "  return (t1+(t2*x))"
   ]
  },
  {
   "cell_type": "code",
   "execution_count": null,
   "metadata": {},
   "outputs": [],
   "source": [
    "#Cost Function\n",
    "def cost(t1,t2,d):\n",
    "  sum = 0\n",
    "  g1 = d[0][0]\n",
    "  g2 = d[0][1]\n",
    "  for i in d:\n",
    "    temp = ((hypothesis(t1,t2,(int(i[0])))) - int(i[1]))**2\n",
    "    sum += temp\n",
    "  return 1/60 * sum"
   ]
  },
  {
   "cell_type": "code",
   "execution_count": null,
   "metadata": {},
   "outputs": [],
   "source": [
    "for i in range(10):\n",
    "  #Generating random theta values\n",
    "  theta1 = rand.random() \n",
    "  theta2 = rand.random()\n",
    "  print(\"Theta 1 = \", theta1, \"Theta 2 = \", theta2, \"Cost = \", cost(theta1,theta2,struct_data))"
   ]
  }
 ],
 "metadata": {
  "kernelspec": {
   "display_name": "Python 3",
   "language": "python",
   "name": "python3"
  },
  "language_info": {
   "codemirror_mode": {
    "name": "ipython",
    "version": 3
   },
   "file_extension": ".py",
   "mimetype": "text/x-python",
   "name": "python",
   "nbconvert_exporter": "python",
   "pygments_lexer": "ipython3",
   "version": "3.7.6"
  }
 },
 "nbformat": 4,
 "nbformat_minor": 4
}
